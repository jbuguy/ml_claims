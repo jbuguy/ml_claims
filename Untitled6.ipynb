{
  "cells": [
    {
      "cell_type": "code",
      "execution_count": null,
      "metadata": {
        "id": "YPKlkDwVg3UU"
      },
      "outputs": [],
      "source": [
        "import pandas as pd\n",
        "import numpy as np\n",
        "import matplotlib.pyplot as plt\n",
        "import seaborn as sns\n",
        "from sklearn.preprocessing import OrdinalEncoder,OneHotEncoder\n",
        "from sklearn.impute import SimpleImputer"
      ]
    },
    {
      "cell_type": "code",
      "execution_count": null,
      "metadata": {
        "colab": {
          "base_uri": "https://localhost:8080/"
        },
        "id": "EgKfvE5AmUU9",
        "outputId": "0858d338-d722-4d70-d149-d9bb89c23e9d"
      },
      "outputs": [],
      "source": [
        "# from google.colab import drive\n",
        "# drive.mount('/content/drive')"
      ]
    },
    {
      "cell_type": "code",
      "execution_count": null,
      "metadata": {
        "colab": {
          "base_uri": "https://localhost:8080/",
          "height": 513
        },
        "id": "IOuh9XWDhTAX",
        "outputId": "bb63fa42-41fb-4cdf-b598-c23d7b199da0"
      },
      "outputs": [],
      "source": [
        "df_train=pd.read_csv('train_Insurance.csv')\n",
        "df_test=pd.read_csv('test_Insurance.csv')\n",
        "df_train"
      ]
    },
    {
      "cell_type": "code",
      "execution_count": null,
      "metadata": {
        "colab": {
          "base_uri": "https://localhost:8080/",
          "height": 449
        },
        "id": "qlWjQnjPhmtx",
        "outputId": "2de46b24-1748-4cbb-90c9-5c7c5c801bf4"
      },
      "outputs": [],
      "source": [
        "df_train.describe(include=\"all\")\n"
      ]
    },
    {
      "cell_type": "code",
      "execution_count": null,
      "metadata": {
        "colab": {
          "base_uri": "https://localhost:8080/"
        },
        "id": "tsdMzS4kn4_c",
        "outputId": "f0198532-7976-4570-c0a4-555c8f557a7a"
      },
      "outputs": [],
      "source": [
        "df_train['NumberOfWindows'].unique()"
      ]
    },
    {
      "cell_type": "code",
      "execution_count": null,
      "metadata": {
        "colab": {
          "base_uri": "https://localhost:8080/",
          "height": 491
        },
        "id": "H8H46Cktijjh",
        "outputId": "3d214d54-e75d-4f24-c596-4d969173cb3b"
      },
      "outputs": [],
      "source": [
        "df_train.isna().sum()"
      ]
    },
    {
      "cell_type": "code",
      "execution_count": null,
      "metadata": {
        "id": "t8AelMsGjP3G"
      },
      "outputs": [],
      "source": [
        "encoder=OrdinalEncoder()\n",
        "df_train[\"Geo_Code\"]=encoder.fit_transform(df_train[[\"Geo_Code\"]])"
      ]
    },
    {
      "cell_type": "code",
      "execution_count": null,
      "metadata": {
        "colab": {
          "base_uri": "https://localhost:8080/",
          "height": 573
        },
        "id": "8mTy8AOpko1t",
        "outputId": "565c0b26-9348-4da9-d201-ae3fde0b1913"
      },
      "outputs": [],
      "source": [
        "sns.heatmap(df_train.corr(numeric_only=True),annot=True)"
      ]
    },
    {
      "cell_type": "markdown",
      "metadata": {
        "id": "crAi6HR2qC7C"
      },
      "source": [
        "# encoding"
      ]
    },
    {
      "cell_type": "code",
      "execution_count": null,
      "metadata": {
        "colab": {
          "base_uri": "https://localhost:8080/"
        },
        "id": "S8yIy1_NqFWP",
        "outputId": "7f033e9d-df7b-4749-85b0-ee32cec3473f"
      },
      "outputs": [],
      "source": [
        "for i in df_train.columns:\n",
        "  print(i)\n",
        "  print(df_train[i].unique())"
      ]
    },
    {
      "cell_type": "markdown",
      "metadata": {
        "id": "zqBEr3nwqeY7"
      },
      "source": [
        "###"
      ]
    },
    {
      "cell_type": "code",
      "execution_count": null,
      "metadata": {
        "colab": {
          "base_uri": "https://localhost:8080/",
          "height": 513
        },
        "id": "UDU7Tcf5qdde",
        "outputId": "37b60ea9-dc52-4347-84d9-f8d41a59c2f2"
      },
      "outputs": [],
      "source": [
        "#changement de la valeur 'without' dans numberofwindows par la valeur 0\n",
        "df_train['NumberOfWindows']=df_train['NumberOfWindows'].apply(lambda x:0 if x=='without' else x)\n",
        "ord_categories=[[0.5,1],['V','N'],['V','N'],['R','U']]\n",
        "enc=OrdinalEncoder(categories=ord_categories)\n",
        "df_train[['Insured_Period','Building_Painted','Building_Fenced','Settlement']]=enc.fit_transform(df_train[['Insured_Period','Building_Painted','Building_Fenced','Settlement']])\n",
        "\n",
        "df_train"
      ]
    },
    {
      "cell_type": "code",
      "execution_count": null,
      "metadata": {
        "colab": {
          "base_uri": "https://localhost:8080/",
          "height": 461
        },
        "id": "v0PiWC_-vewG",
        "outputId": "5e95442d-3696-439e-881a-8b16c034858b"
      },
      "outputs": [],
      "source": [
        "X = OneHotEncoder(sparse_output=False,categories=[[\"Wood-framed\", \"Non-combustible\", \"Ordinary\",\"Fire-resistive\"]]).fit_transform(df_train.loc[:,[\"Building_Type\"]])\n",
        "df_train=pd.concat([df_train,pd.DataFrame(X,columns=[\"Wood-framed\", \"Non-combustible\", \"Type_Ordinary\",\"Fire-resistive\"])],axis=1)\n",
        "df_train.drop(columns=[\"Building_Type\"],inplace=True)\n",
        "df_train=pd.concat([df_train.iloc[:,:-6],df_train.iloc[:,-4:],df_train.iloc[:,[-6]],df_train.iloc[:,[-5]]],axis=1)\n",
        "df_train"
      ]
    },
    {
      "cell_type": "code",
      "execution_count": null,
      "metadata": {},
      "outputs": [],
      "source": [
        "df_train['Geo_Code'].fillna(-1,inplace=True)\n",
        "df_train.isna().sum()"
      ]
    }
  ],
  "metadata": {
    "colab": {
      "provenance": []
    },
    "kernelspec": {
      "display_name": "Python 3",
      "language": "python",
      "name": "python3"
    },
    "language_info": {
      "codemirror_mode": {
        "name": "ipython",
        "version": 3
      },
      "file_extension": ".py",
      "mimetype": "text/x-python",
      "name": "python",
      "nbconvert_exporter": "python",
      "pygments_lexer": "ipython3",
      "version": "3.13.7"
    }
  },
  "nbformat": 4,
  "nbformat_minor": 0
}
