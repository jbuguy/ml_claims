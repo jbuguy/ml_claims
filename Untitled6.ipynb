{
  "cells": [
    {
      "cell_type": "code",
      "execution_count": null,
      "metadata": {
        "id": "YPKlkDwVg3UU"
      },
      "outputs": [],
      "source": [
        "import pandas as pd\n",
        "import numpy as np\n",
        "import matplotlib.pyplot as plt\n",
        "import seaborn as sns\n",
        "from sklearn.preprocessing import OrdinalEncoder,OneHotEncoder\n",
        "from sklearn.impute import SimpleImputer"
      ]
    },
    {
      "cell_type": "code",
      "execution_count": null,
      "metadata": {
        "id": "EgKfvE5AmUU9"
      },
      "outputs": [],
      "source": [
        "# from google.colab import drive\n",
        "# drive.mount('/content/drive')"
      ]
    },
    {
      "cell_type": "code",
      "execution_count": null,
      "metadata": {
        "id": "IOuh9XWDhTAX"
      },
      "outputs": [],
      "source": [
        "df_train=pd.read_csv('train_Insurance.csv')\n",
        "df_test=pd.read_csv('test_Insurance.csv')\n",
        "df_train"
      ]
    },
    {
      "cell_type": "code",
      "execution_count": null,
      "metadata": {
        "id": "qlWjQnjPhmtx"
      },
      "outputs": [],
      "source": [
        "df_train.describe(include=\"all\")\n"
      ]
    },
    {
      "cell_type": "code",
      "execution_count": null,
      "metadata": {
        "id": "tsdMzS4kn4_c"
      },
      "outputs": [],
      "source": [
        "df_train['NumberOfWindows'].unique()"
      ]
    },
    {
      "cell_type": "code",
      "execution_count": null,
      "metadata": {
        "id": "H8H46Cktijjh"
      },
      "outputs": [],
      "source": [
        "df_train.isna().sum()"
      ]
    },
    {
      "cell_type": "code",
      "execution_count": null,
      "metadata": {
        "id": "t8AelMsGjP3G"
      },
      "outputs": [],
      "source": [
        "encoder=OrdinalEncoder()\n",
        "df_train[\"Geo_Code\"]=encoder.fit_transform(df_train[[\"Geo_Code\"]])"
      ]
    },
    {
      "cell_type": "code",
      "execution_count": null,
      "metadata": {
        "id": "8mTy8AOpko1t"
      },
      "outputs": [],
      "source": [
        "sns.heatmap(df_train.corr(numeric_only=True),annot=True)"
      ]
    },
    {
      "cell_type": "markdown",
      "metadata": {
        "id": "sBHwR44FCmtF"
      },
      "source": [
        " removing first columns because it doesn't effect the data"
      ]
    },
    {
      "cell_type": "code",
      "execution_count": null,
      "metadata": {
        "id": "u_r1LEw2CmtH"
      },
      "outputs": [],
      "source": [
        "df_train.drop(columns=[\"Customer Id\"],inplace=True)\n",
        "df_train"
      ]
    },
    {
      "cell_type": "markdown",
      "metadata": {
        "id": "crAi6HR2qC7C"
      },
      "source": [
        "# encoding"
      ]
    },
    {
      "cell_type": "code",
      "execution_count": null,
      "metadata": {
        "id": "S8yIy1_NqFWP"
      },
      "outputs": [],
      "source": [
        "for i in df_train.columns:\n",
        "  print(i)\n",
        "  print(df_train[i].unique())"
      ]
    },
    {
      "cell_type": "markdown",
      "metadata": {
        "id": "zqBEr3nwqeY7"
      },
      "source": [
        "###"
      ]
    },
    {
      "cell_type": "code",
      "execution_count": null,
      "metadata": {
        "id": "UDU7Tcf5qdde"
      },
      "outputs": [],
      "source": [
        "#changement de la valeur 'without' dans numberofwindows par la valeur 0\n",
        "df_train['NumberOfWindows']=df_train['NumberOfWindows'].apply(lambda x:0 if x=='without' else x)\n",
        "ord_categories=[[0.5,1],['V','N'],['V','N'],['R','U']]\n",
        "enc=OrdinalEncoder(categories=ord_categories)\n",
        "df_train[['Insured_Period','Building_Painted','Building_Fenced','Settlement']]=enc.fit_transform(df_train[['Insured_Period','Building_Painted','Building_Fenced','Settlement']])\n",
        "\n",
        "df_train"
      ]
    },
    {
      "cell_type": "code",
      "execution_count": null,
      "metadata": {
        "id": "v0PiWC_-vewG"
      },
      "outputs": [],
      "source": [
        "X = OneHotEncoder(sparse_output=False,categories=[[\"Wood-framed\", \"Non-combustible\", \"Ordinary\",\"Fire-resistive\"]]).fit_transform(df_train.loc[:,[\"Building_Type\"]])\n",
        "df_train=pd.concat([df_train,pd.DataFrame(X,columns=[\"Wood-framed\", \"Non-combustible\", \"Ordinary\",\"Fire-resistive\"])],axis=1)\n",
        "df_train.drop(columns=[\"Building_Type\"],inplace=True)\n",
        "df_train=pd.concat([df_train.iloc[:,:-6],df_train.iloc[:,-4:],df_train.iloc[:,[-6]],df_train.iloc[:,[-5]]],axis=1)\n",
        "df_train"
      ]
    },
    {
      "cell_type": "markdown",
      "metadata": {
        "id": "ttNeoz1qCmtJ"
      },
      "source": [
        "# Filling  Nan"
      ]
    },
    {
      "cell_type": "code",
      "execution_count": null,
      "metadata": {
        "id": "pbLJVX7QCmtJ"
      },
      "outputs": [],
      "source": [
        "df_train.isna().sum()"
      ]
    },
    {
      "cell_type": "code",
      "execution_count": null,
      "metadata": {
        "id": "Q58mdw8_CmtJ"
      },
      "outputs": [],
      "source": [
        "df_train.corr(numeric_only=True)[\"Geo_Code\"][:-1].idxmax()"
      ]
    },
    {
      "cell_type": "code",
      "execution_count": null,
      "metadata": {
        "id": "WM0AYlEVCmtK"
      },
      "outputs": [],
      "source": [
        "#df_train[\"Geo_Code\"]=df_train.sort_values(by=\"Ordinary\",ascending=True)[\"Geo_Code\"].ffill().sort_index()\n",
        "#df_train\n"
      ]
    },
    {
      "cell_type": "code",
      "execution_count": null,
      "metadata": {
        "id": "C7FLxKlhCmtK"
      },
      "outputs": [],
      "source": [
        "df_train.corr(numeric_only=True)[\"Building Dimension\"]"
      ]
    },
    {
      "cell_type": "code",
      "execution_count": null,
      "metadata": {
        "id": "nVv6fDumCmtK"
      },
      "outputs": [],
      "source": [
        "mf_imputer = SimpleImputer(missing_values=np.nan,strategy='median')\n",
        "df_train['Building Dimension']=mf_imputer.fit_transform(df_train.loc[:,['Building Dimension']])\n"
      ]
    },
    {
      "cell_type": "code",
      "execution_count": null,
      "metadata": {
        "id": "nX3YhurTCmtK"
      },
      "outputs": [],
      "source": [
        "\n",
        "\n",
        "df_train[[\"Garden\"]]=SimpleImputer(missing_values=np.nan,strategy=\"most_frequent\").fit_transform(df_train.loc[:,[\"Garden\"]])"
      ]
    }
  ],
  "metadata": {
    "colab": {
      "provenance": []
    },
    "kernelspec": {
      "display_name": ".venv",
      "language": "python",
      "name": "python3"
    },
    "language_info": {
      "codemirror_mode": {
        "name": "ipython",
        "version": 3
      },
      "file_extension": ".py",
      "mimetype": "text/x-python",
      "name": "python",
      "nbconvert_exporter": "python",
      "pygments_lexer": "ipython3",
      "version": "3.13.7"
    }
  },
  "nbformat": 4,
  "nbformat_minor": 0
}